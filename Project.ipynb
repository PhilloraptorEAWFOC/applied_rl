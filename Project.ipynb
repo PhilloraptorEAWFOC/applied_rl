{
  "nbformat": 4,
  "nbformat_minor": 0,
  "metadata": {
    "colab": {
      "name": "Project.ipynb",
      "provenance": [],
      "collapsed_sections": []
    },
    "kernelspec": {
      "name": "python3",
      "display_name": "Python 3"
    }
  },
  "cells": [
    {
      "cell_type": "code",
      "metadata": {
        "colab": {
          "base_uri": "https://localhost:8080/",
          "height": 889
        },
        "id": "AsMTtQBh8SEn",
        "outputId": "8591c29b-4412-4268-dedf-829b2893390f"
      },
      "source": [
        "pip install tensorflow==1.13.2"
      ],
      "execution_count": null,
      "outputs": [
        {
          "output_type": "stream",
          "text": [
            "Collecting tensorflow==1.13.2\n",
            "\u001b[?25l  Downloading https://files.pythonhosted.org/packages/db/d3/651f95288a6cd9094f7411cdd90ef12a3d01a268009e0e3cd66b5c8d65bd/tensorflow-1.13.2-cp36-cp36m-manylinux1_x86_64.whl (92.6MB)\n",
            "\u001b[K     |████████████████████████████████| 92.6MB 60kB/s \n",
            "\u001b[?25hRequirement already satisfied: absl-py>=0.1.6 in /usr/local/lib/python3.6/dist-packages (from tensorflow==1.13.2) (0.10.0)\n",
            "Collecting keras-applications>=1.0.6\n",
            "\u001b[?25l  Downloading https://files.pythonhosted.org/packages/71/e3/19762fdfc62877ae9102edf6342d71b28fbfd9dea3d2f96a882ce099b03f/Keras_Applications-1.0.8-py3-none-any.whl (50kB)\n",
            "\u001b[K     |████████████████████████████████| 51kB 5.1MB/s \n",
            "\u001b[?25hRequirement already satisfied: six>=1.10.0 in /usr/local/lib/python3.6/dist-packages (from tensorflow==1.13.2) (1.15.0)\n",
            "Collecting tensorboard<1.14.0,>=1.13.0\n",
            "\u001b[?25l  Downloading https://files.pythonhosted.org/packages/0f/39/bdd75b08a6fba41f098b6cb091b9e8c7a80e1b4d679a581a0ccd17b10373/tensorboard-1.13.1-py3-none-any.whl (3.2MB)\n",
            "\u001b[K     |████████████████████████████████| 3.2MB 41.8MB/s \n",
            "\u001b[?25hRequirement already satisfied: protobuf>=3.6.1 in /usr/local/lib/python3.6/dist-packages (from tensorflow==1.13.2) (3.12.4)\n",
            "Requirement already satisfied: gast>=0.2.0 in /usr/local/lib/python3.6/dist-packages (from tensorflow==1.13.2) (0.3.3)\n",
            "Requirement already satisfied: keras-preprocessing>=1.0.5 in /usr/local/lib/python3.6/dist-packages (from tensorflow==1.13.2) (1.1.2)\n",
            "Requirement already satisfied: grpcio>=1.8.6 in /usr/local/lib/python3.6/dist-packages (from tensorflow==1.13.2) (1.32.0)\n",
            "Collecting tensorflow-estimator<1.14.0rc0,>=1.13.0\n",
            "\u001b[?25l  Downloading https://files.pythonhosted.org/packages/bb/48/13f49fc3fa0fdf916aa1419013bb8f2ad09674c275b4046d5ee669a46873/tensorflow_estimator-1.13.0-py2.py3-none-any.whl (367kB)\n",
            "\u001b[K     |████████████████████████████████| 368kB 39.3MB/s \n",
            "\u001b[?25hRequirement already satisfied: numpy<2.0,>=1.16.0 in /usr/local/lib/python3.6/dist-packages (from tensorflow==1.13.2) (1.19.5)\n",
            "Requirement already satisfied: wheel>=0.26 in /usr/local/lib/python3.6/dist-packages (from tensorflow==1.13.2) (0.36.2)\n",
            "Requirement already satisfied: astor>=0.6.0 in /usr/local/lib/python3.6/dist-packages (from tensorflow==1.13.2) (0.8.1)\n",
            "Requirement already satisfied: termcolor>=1.1.0 in /usr/local/lib/python3.6/dist-packages (from tensorflow==1.13.2) (1.1.0)\n",
            "Requirement already satisfied: h5py in /usr/local/lib/python3.6/dist-packages (from keras-applications>=1.0.6->tensorflow==1.13.2) (2.10.0)\n",
            "Requirement already satisfied: werkzeug>=0.11.15 in /usr/local/lib/python3.6/dist-packages (from tensorboard<1.14.0,>=1.13.0->tensorflow==1.13.2) (1.0.1)\n",
            "Requirement already satisfied: markdown>=2.6.8 in /usr/local/lib/python3.6/dist-packages (from tensorboard<1.14.0,>=1.13.0->tensorflow==1.13.2) (3.3.3)\n",
            "Requirement already satisfied: setuptools in /usr/local/lib/python3.6/dist-packages (from protobuf>=3.6.1->tensorflow==1.13.2) (51.1.2)\n",
            "Collecting mock>=2.0.0\n",
            "  Downloading https://files.pythonhosted.org/packages/5c/03/b7e605db4a57c0f6fba744b11ef3ddf4ddebcada35022927a2b5fc623fdf/mock-4.0.3-py3-none-any.whl\n",
            "Requirement already satisfied: importlib-metadata; python_version < \"3.8\" in /usr/local/lib/python3.6/dist-packages (from markdown>=2.6.8->tensorboard<1.14.0,>=1.13.0->tensorflow==1.13.2) (3.3.0)\n",
            "Requirement already satisfied: zipp>=0.5 in /usr/local/lib/python3.6/dist-packages (from importlib-metadata; python_version < \"3.8\"->markdown>=2.6.8->tensorboard<1.14.0,>=1.13.0->tensorflow==1.13.2) (3.4.0)\n",
            "Requirement already satisfied: typing-extensions>=3.6.4; python_version < \"3.8\" in /usr/local/lib/python3.6/dist-packages (from importlib-metadata; python_version < \"3.8\"->markdown>=2.6.8->tensorboard<1.14.0,>=1.13.0->tensorflow==1.13.2) (3.7.4.3)\n",
            "Installing collected packages: keras-applications, tensorboard, mock, tensorflow-estimator, tensorflow\n",
            "  Found existing installation: tensorboard 2.4.0\n",
            "    Uninstalling tensorboard-2.4.0:\n",
            "      Successfully uninstalled tensorboard-2.4.0\n",
            "  Found existing installation: tensorflow-estimator 2.4.0\n",
            "    Uninstalling tensorflow-estimator-2.4.0:\n",
            "      Successfully uninstalled tensorflow-estimator-2.4.0\n",
            "  Found existing installation: tensorflow 2.4.0\n",
            "    Uninstalling tensorflow-2.4.0:\n",
            "      Successfully uninstalled tensorflow-2.4.0\n",
            "Successfully installed keras-applications-1.0.8 mock-4.0.3 tensorboard-1.13.1 tensorflow-1.13.2 tensorflow-estimator-1.13.0\n"
          ],
          "name": "stdout"
        },
        {
          "output_type": "display_data",
          "data": {
            "application/vnd.colab-display-data+json": {
              "pip_warning": {
                "packages": [
                  "tensorboard",
                  "tensorflow"
                ]
              }
            }
          },
          "metadata": {
            "tags": []
          }
        }
      ]
    },
    {
      "cell_type": "code",
      "metadata": {
        "id": "pFS4DCK48ADL"
      },
      "source": [
        "import gym\r\n",
        "import numpy as np\r\n",
        "import matplotlib.pyplot as plt\r\n",
        "import time\r\n",
        "import os"
      ],
      "execution_count": 21,
      "outputs": []
    },
    {
      "cell_type": "code",
      "metadata": {
        "id": "1k0Z7PTl8M6E"
      },
      "source": [
        "from stable_baselines.common.vec_env import DummyVecEnv, VecNormalize\r\n",
        "from stable_baselines.common.policies import MlpPolicy\r\n",
        "from stable_baselines import PPO2, A2C, ACKTR\r\n",
        "from stable_baselines.bench import Monitor\r\n",
        "from stable_baselines.results_plotter import load_results, ts2xy\r\n",
        "from stable_baselines import results_plotter"
      ],
      "execution_count": 22,
      "outputs": []
    },
    {
      "cell_type": "code",
      "metadata": {
        "id": "q8Wvwtc_8CzP"
      },
      "source": [
        "class NoisedObservationWrapper(gym.ObservationWrapper):\r\n",
        "    # encapsulate environment with this wrapper and use env just like before:\r\n",
        "    # env = NoisedObservationWrapper(gym.make(\"CartPole-v0\"))\r\n",
        "    # for PPO2:\r\n",
        "    # from stable_baselines.common import make_vec_env\r\n",
        "    # env = make_vec_env(NoisedObservationWrapper(gym.make(\"CartPole-v0\")))\r\n",
        "    \r\n",
        "    def __init__(self, env, std_dev=0.1, mean=0):\r\n",
        "        super(NoisedObservationWrapper, self).__init__(env)\r\n",
        "        self.std_dev = std_dev\r\n",
        "        self.mean = mean\r\n",
        "      \r\n",
        "    def observation(self, observation):\r\n",
        "        # Modify observation here, e.g. just add noise at certain angles etc.\r\n",
        "        # for now we add noise with mu=0 and std=0.1 on all observations\r\n",
        "        return observation + np.random.normal(self.mean, self.std_dev, 4)\r\n",
        "\r\n",
        "\r\n",
        "def sample_data(env, episodes=200, save=False):\r\n",
        "    env.np_random.seed(0)\r\n",
        "\r\n",
        "    CART_POS=\"cartPos\"\r\n",
        "    CART_VEL=\"cartVel\"\r\n",
        "    PEND_POS=\"pendPos\"\r\n",
        "    PEND_VEL=\"pendVel\"\r\n",
        "    EPISODE=\"episode\"\r\n",
        "    STEP=\"step\"\r\n",
        "    ACTION=\"action\"\r\n",
        "\r\n",
        "    # create empty Pandas dataset\r\n",
        "    d = {\r\n",
        "        CART_POS:[], CART_VEL:[], \r\n",
        "        PEND_POS:[], PEND_VEL:[],\r\n",
        "        EPISODE:[], STEP:[], ACTION:[]\r\n",
        "        }\r\n",
        "    df = pd.DataFrame(data=d)\r\n",
        "\r\n",
        "    # sample data\r\n",
        "    for episode in range(episodes):\r\n",
        "        print (\"Start of episode %d\" % episode)\r\n",
        "        obs = env.reset()\r\n",
        "        step = 0\r\n",
        "        done = False\r\n",
        "        \r\n",
        "        while step < 500 and not done:\r\n",
        "            step += 1\r\n",
        "            action = env.action_space.sample()\r\n",
        "            \r\n",
        "            df = df.append ({CART_POS:obs[0], CART_VEL:obs[1], \r\n",
        "                            PEND_POS:obs[2], PEND_VEL:obs[3],\r\n",
        "                            EPISODE:episode, STEP:step, ACTION:action}, ignore_index=True)\r\n",
        "            \r\n",
        "            obs, reward, done, _ = env.step(action)\r\n",
        "    \r\n",
        "    if save:\r\n",
        "        store = pd.HDFStore('sample_data.h5')\r\n",
        "        store['df'] = df\r\n",
        "    \r\n",
        "    return df"
      ],
      "execution_count": 23,
      "outputs": []
    },
    {
      "cell_type": "code",
      "metadata": {
        "id": "RkNhds3O8Hvw"
      },
      "source": [
        "log_dir1 = \"logs1\"\r\n",
        "log_dir2 = \"logs2\"\r\n",
        "os.makedirs(log_dir1, exist_ok=True)\r\n",
        "os.makedirs(log_dir2, exist_ok=True)"
      ],
      "execution_count": 24,
      "outputs": []
    },
    {
      "cell_type": "code",
      "metadata": {
        "id": "Z2kXbPHgJ7Fw"
      },
      "source": [
        "env1 = gym.make('CartPole-v1')\r\n",
        "env1 = Monitor(env1, log_dir1) # required for using callback functions during training"
      ],
      "execution_count": 25,
      "outputs": []
    },
    {
      "cell_type": "code",
      "metadata": {
        "id": "sK1-5r29IZzD"
      },
      "source": [
        "env2 = NoisedObservationWrapper(gym.make(\"CartPole-v0\"))\r\n",
        "env2 = Monitor(env2, log_dir2) # required for using callback functions during training"
      ],
      "execution_count": 26,
      "outputs": []
    },
    {
      "cell_type": "code",
      "metadata": {
        "id": "r21M8SysIbgX"
      },
      "source": [
        "from stable_baselines.common.callbacks import BaseCallback\r\n",
        "class SaveOnBestTrainingRewardCallback(BaseCallback):\r\n",
        "    \"\"\"\r\n",
        "    Callback for saving a model (the check is done every ``check_freq`` steps)\r\n",
        "    based on the training reward (in practice, we recommend using ``EvalCallback``).\r\n",
        "\r\n",
        "    :param check_freq: (int)\r\n",
        "    :param avg_episodes: (int) average over the past n episodes (default: 100)\r\n",
        "    :param log_dir: (str) Path to the folder where the model will be saved.\r\n",
        "      It must contains the file created by the ``Monitor`` wrapper.\r\n",
        "    :param verbose: (int)\r\n",
        "    :param vec_norm_env: (VecNormalize) stable-baselines VecNormalize object (contains Gym env)\r\n",
        "    \"\"\"\r\n",
        "    def __init__(self, check_freq: int, log_dir: str, verbose=1, avg_episodes=100, vec_norm_env=None):\r\n",
        "        super(SaveOnBestTrainingRewardCallback, self).__init__(verbose)\r\n",
        "        self.check_freq = check_freq\r\n",
        "        self.log_dir = log_dir\r\n",
        "        self.save_path = os.path.join(log_dir, 'best_model_nn')\r\n",
        "        self.best_mean_reward = -np.inf\r\n",
        "        self.best_timestep = -np.inf\r\n",
        "        self.vec_norm_env = vec_norm_env\r\n",
        "        self.avg_episodes = avg_episodes\r\n",
        "\r\n",
        "    def _init_callback(self) -> None:\r\n",
        "        # Create folder if needed\r\n",
        "        if self.save_path is not None:\r\n",
        "            os.makedirs(self.save_path, exist_ok=True)\r\n",
        "\r\n",
        "    def _on_step(self) -> bool:\r\n",
        "        if self.n_calls % self.check_freq == 0:\r\n",
        "\r\n",
        "            # Retrieve training reward\r\n",
        "            x, y = ts2xy(load_results(self.log_dir), 'timesteps')\r\n",
        "            \r\n",
        "            if len(x) > 0:\r\n",
        "                # Mean training reward over the last avg_episodes episodes\r\n",
        "                mean_reward = np.mean(y[-self.avg_episodes:])\r\n",
        "\r\n",
        "                # New best model, you could save the agent here\r\n",
        "                if mean_reward > self.best_mean_reward:\r\n",
        "                    self.best_mean_reward = mean_reward\r\n",
        "                    self.best_timestep = self.num_timesteps\r\n",
        "                    # Example for saving best model\r\n",
        "                    if self.verbose > 0:\r\n",
        "                        print(\"Saving new best model to {}\".format(self.save_path))\r\n",
        "                    self.model.save(self.save_path)\r\n",
        "\r\n",
        "                if self.verbose > 0:\r\n",
        "                    print(\"Num timesteps: {}\".format(self.num_timesteps))\r\n",
        "                    print(\"Best mean reward: {:.2f} (ts={}) - Last mean reward per episode: {:.2f}\".format(self.best_mean_reward, self.best_timestep, mean_reward))\r\n",
        "\r\n",
        "\r\n",
        "        return True"
      ],
      "execution_count": 27,
      "outputs": []
    },
    {
      "cell_type": "code",
      "metadata": {
        "colab": {
          "base_uri": "https://localhost:8080/"
        },
        "id": "asqLrBybJn_b",
        "outputId": "ec78bd59-d6a2-45db-f47a-e702640ab51d"
      },
      "source": [
        "time_steps=21000\r\n",
        "\r\n",
        "tensorboard_dir1 = \"cartpole1\"\r\n",
        "os.makedirs(tensorboard_dir1, exist_ok=True)\r\n",
        "model1 = PPO2(MlpPolicy, env1, verbose=0)\r\n",
        "callback1=SaveOnBestTrainingRewardCallback(check_freq=5000, log_dir=log_dir1, avg_episodes=30, vec_norm_env=env1)\r\n",
        "model1.learn(total_timesteps=time_steps, callback=callback1)"
      ],
      "execution_count": 32,
      "outputs": [
        {
          "output_type": "stream",
          "text": [
            "Saving new best model to logs1/best_model_nn\n",
            "Num timesteps: 5000\n",
            "Best mean reward: 87.67 (ts=5000) - Last mean reward per episode: 87.67\n",
            "Saving new best model to logs1/best_model_nn\n",
            "Num timesteps: 10000\n",
            "Best mean reward: 137.77 (ts=10000) - Last mean reward per episode: 137.77\n",
            "Saving new best model to logs1/best_model_nn\n",
            "Num timesteps: 15000\n",
            "Best mean reward: 145.77 (ts=15000) - Last mean reward per episode: 145.77\n",
            "Saving new best model to logs1/best_model_nn\n",
            "Num timesteps: 20000\n",
            "Best mean reward: 205.20 (ts=20000) - Last mean reward per episode: 205.20\n"
          ],
          "name": "stdout"
        },
        {
          "output_type": "execute_result",
          "data": {
            "text/plain": [
              "<stable_baselines.ppo2.ppo2.PPO2 at 0x7fa94c902cf8>"
            ]
          },
          "metadata": {
            "tags": []
          },
          "execution_count": 32
        }
      ]
    },
    {
      "cell_type": "code",
      "metadata": {
        "colab": {
          "base_uri": "https://localhost:8080/",
          "height": 153
        },
        "id": "c0EY73G7JsFc",
        "outputId": "a7290300-d0a9-4d16-fc6e-e87528eb9583"
      },
      "source": [
        "results_plotter.plot_results([log_dir1], time_steps, results_plotter.X_TIMESTEPS, \"PPO2 CartPole\")\r\n",
        "plt.savefig(\"results1-cartpole.png\")\r\n",
        "plt.show()"
      ],
      "execution_count": 33,
      "outputs": [
        {
          "output_type": "display_data",
          "data": {
            "image/png": "[encoded data removed]",
            "text/plain": [
              "<Figure size 576x144 with 1 Axes>"
            ]
          },
          "metadata": {
            "tags": [],
            "needs_background": "light"
          }
        }
      ]
    },
    {
      "cell_type": "code",
      "metadata": {
        "colab": {
          "base_uri": "https://localhost:8080/"
        },
        "id": "wbWbLVcEKXuO",
        "outputId": "2c598629-8f2e-4e64-92d1-f43d6bdc0523"
      },
      "source": [
        "tensorboard_dir2 = \"cartpole2\"\r\n",
        "os.makedirs(tensorboard_dir2, exist_ok=True)\r\n",
        "model2 = PPO2(MlpPolicy, env2, verbose=0)\r\n",
        "callback2=SaveOnBestTrainingRewardCallback(check_freq=5000, log_dir=log_dir2, avg_episodes=30, vec_norm_env=env2)\r\n",
        "model2.learn(total_timesteps=time_steps, callback=callback2)"
      ],
      "execution_count": 34,
      "outputs": [
        {
          "output_type": "stream",
          "text": [
            "Saving new best model to logs2/best_model_nn\n",
            "Num timesteps: 5000\n",
            "Best mean reward: 76.47 (ts=5000) - Last mean reward per episode: 76.47\n",
            "Saving new best model to logs2/best_model_nn\n",
            "Num timesteps: 10000\n",
            "Best mean reward: 128.87 (ts=10000) - Last mean reward per episode: 128.87\n",
            "Saving new best model to logs2/best_model_nn\n",
            "Num timesteps: 15000\n",
            "Best mean reward: 142.90 (ts=15000) - Last mean reward per episode: 142.90\n",
            "Saving new best model to logs2/best_model_nn\n",
            "Num timesteps: 20000\n",
            "Best mean reward: 170.27 (ts=20000) - Last mean reward per episode: 170.27\n"
          ],
          "name": "stdout"
        },
        {
          "output_type": "execute_result",
          "data": {
            "text/plain": [
              "<stable_baselines.ppo2.ppo2.PPO2 at 0x7fa947cad550>"
            ]
          },
          "metadata": {
            "tags": []
          },
          "execution_count": 34
        }
      ]
    },
    {
      "cell_type": "code",
      "metadata": {
        "colab": {
          "base_uri": "https://localhost:8080/",
          "height": 153
        },
        "id": "agZnColrKwWc",
        "outputId": "e7a42de7-71f9-4c4d-e5e4-8029b2e71fc5"
      },
      "source": [
        "results_plotter.plot_results([log_dir2], time_steps, results_plotter.X_TIMESTEPS, \"PPO2 CartPole Uncertain\")\r\n",
        "plt.savefig(\"results2-cartpole.png\")\r\n",
        "plt.show()"
      ],
      "execution_count": 35,
      "outputs": [
        {
          "output_type": "display_data",
          "data": {
            "image/png": "[encoded data removed]",
            "text/plain": [
              "<Figure size 576x144 with 1 Axes>"
            ]
          },
          "metadata": {
            "tags": [],
            "needs_background": "light"
          }
        }
      ]
    }
  ]
}