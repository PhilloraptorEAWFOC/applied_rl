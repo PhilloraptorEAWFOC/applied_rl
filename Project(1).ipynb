{
  "nbformat": 4,
  "nbformat_minor": 0,
  "metadata": {
    "colab": {
      "name": "Project.ipynb",
      "provenance": [],
      "collapsed_sections": []
    },
    "kernelspec": {
      "name": "python3",
      "display_name": "Python 3"
    }
  },
  "cells": [
    {
      "cell_type": "code",
      "metadata": {
        "id": "AsMTtQBh8SEn"
      },
      "source": [
        "#pip install tensorflow==1.13.2"
      ],
      "execution_count": 1,
      "outputs": []
    },
    {
      "cell_type": "code",
      "metadata": {
        "colab": {
          "base_uri": "https://localhost:8080/"
        },
        "id": "6hqdCBS6MovG",
        "outputId": "cae6dad5-9d8e-416d-c407-263ff6249516"
      },
      "source": [
        "pip install stable_baselines"
      ],
      "execution_count": 2,
      "outputs": [
        {
          "output_type": "stream",
          "text": [
            "Requirement already satisfied: stable_baselines in /usr/local/lib/python3.6/dist-packages (2.10.1)\n",
            "Requirement already satisfied: numpy in /usr/local/lib/python3.6/dist-packages (from stable_baselines) (1.19.5)\n",
            "Requirement already satisfied: matplotlib in /usr/local/lib/python3.6/dist-packages (from stable_baselines) (3.2.2)\n",
            "Requirement already satisfied: pandas in /usr/local/lib/python3.6/dist-packages (from stable_baselines) (1.1.5)\n",
            "Requirement already satisfied: opencv-python in /usr/local/lib/python3.6/dist-packages (from stable_baselines) (4.1.2.30)\n",
            "Requirement already satisfied: cloudpickle>=0.5.5 in /usr/local/lib/python3.6/dist-packages (from stable_baselines) (1.3.0)\n",
            "Requirement already satisfied: scipy in /usr/local/lib/python3.6/dist-packages (from stable_baselines) (1.4.1)\n",
            "Requirement already satisfied: gym[atari,classic_control]>=0.11 in /usr/local/lib/python3.6/dist-packages (from stable_baselines) (0.17.3)\n",
            "Requirement already satisfied: joblib in /usr/local/lib/python3.6/dist-packages (from stable_baselines) (1.0.0)\n",
            "Requirement already satisfied: kiwisolver>=1.0.1 in /usr/local/lib/python3.6/dist-packages (from matplotlib->stable_baselines) (1.3.1)\n",
            "Requirement already satisfied: python-dateutil>=2.1 in /usr/local/lib/python3.6/dist-packages (from matplotlib->stable_baselines) (2.8.1)\n",
            "Requirement already satisfied: cycler>=0.10 in /usr/local/lib/python3.6/dist-packages (from matplotlib->stable_baselines) (0.10.0)\n",
            "Requirement already satisfied: pyparsing!=2.0.4,!=2.1.2,!=2.1.6,>=2.0.1 in /usr/local/lib/python3.6/dist-packages (from matplotlib->stable_baselines) (2.4.7)\n",
            "Requirement already satisfied: pytz>=2017.2 in /usr/local/lib/python3.6/dist-packages (from pandas->stable_baselines) (2018.9)\n",
            "Requirement already satisfied: pyglet<=1.5.0,>=1.4.0 in /usr/local/lib/python3.6/dist-packages (from gym[atari,classic_control]>=0.11->stable_baselines) (1.5.0)\n",
            "Requirement already satisfied: Pillow; extra == \"atari\" in /usr/local/lib/python3.6/dist-packages (from gym[atari,classic_control]>=0.11->stable_baselines) (7.0.0)\n",
            "Requirement already satisfied: atari-py~=0.2.0; extra == \"atari\" in /usr/local/lib/python3.6/dist-packages (from gym[atari,classic_control]>=0.11->stable_baselines) (0.2.6)\n",
            "Requirement already satisfied: six>=1.5 in /usr/local/lib/python3.6/dist-packages (from python-dateutil>=2.1->matplotlib->stable_baselines) (1.15.0)\n",
            "Requirement already satisfied: future in /usr/local/lib/python3.6/dist-packages (from pyglet<=1.5.0,>=1.4.0->gym[atari,classic_control]>=0.11->stable_baselines) (0.16.0)\n"
          ],
          "name": "stdout"
        }
      ]
    },
    {
      "cell_type": "code",
      "metadata": {
        "id": "pFS4DCK48ADL"
      },
      "source": [
        "import gym\r\n",
        "import numpy as np\r\n",
        "import matplotlib.pyplot as plt\r\n",
        "import time\r\n",
        "import os"
      ],
      "execution_count": 3,
      "outputs": []
    },
    {
      "cell_type": "code",
      "metadata": {
        "id": "1k0Z7PTl8M6E",
        "colab": {
          "base_uri": "https://localhost:8080/"
        },
        "outputId": "cfa79f91-f696-454d-9c18-5987c92ab769"
      },
      "source": [
        "from stable_baselines.common.vec_env import DummyVecEnv, VecNormalize\r\n",
        "from stable_baselines.common.policies import MlpPolicy\r\n",
        "from stable_baselines import PPO2, A2C, ACKTR\r\n",
        "from stable_baselines.bench import Monitor\r\n",
        "from stable_baselines.results_plotter import load_results, ts2xy\r\n",
        "from stable_baselines import results_plotter"
      ],
      "execution_count": 4,
      "outputs": [
        {
          "output_type": "stream",
          "text": [
            "/usr/local/lib/python3.6/dist-packages/tensorflow/python/framework/dtypes.py:526: FutureWarning: Passing (type, 1) or '1type' as a synonym of type is deprecated; in a future version of numpy, it will be understood as (type, (1,)) / '(1,)type'.\n",
            "  _np_qint8 = np.dtype([(\"qint8\", np.int8, 1)])\n",
            "/usr/local/lib/python3.6/dist-packages/tensorflow/python/framework/dtypes.py:527: FutureWarning: Passing (type, 1) or '1type' as a synonym of type is deprecated; in a future version of numpy, it will be understood as (type, (1,)) / '(1,)type'.\n",
            "  _np_quint8 = np.dtype([(\"quint8\", np.uint8, 1)])\n",
            "/usr/local/lib/python3.6/dist-packages/tensorflow/python/framework/dtypes.py:528: FutureWarning: Passing (type, 1) or '1type' as a synonym of type is deprecated; in a future version of numpy, it will be understood as (type, (1,)) / '(1,)type'.\n",
            "  _np_qint16 = np.dtype([(\"qint16\", np.int16, 1)])\n",
            "/usr/local/lib/python3.6/dist-packages/tensorflow/python/framework/dtypes.py:529: FutureWarning: Passing (type, 1) or '1type' as a synonym of type is deprecated; in a future version of numpy, it will be understood as (type, (1,)) / '(1,)type'.\n",
            "  _np_quint16 = np.dtype([(\"quint16\", np.uint16, 1)])\n",
            "/usr/local/lib/python3.6/dist-packages/tensorflow/python/framework/dtypes.py:530: FutureWarning: Passing (type, 1) or '1type' as a synonym of type is deprecated; in a future version of numpy, it will be understood as (type, (1,)) / '(1,)type'.\n",
            "  _np_qint32 = np.dtype([(\"qint32\", np.int32, 1)])\n",
            "/usr/local/lib/python3.6/dist-packages/tensorflow/python/framework/dtypes.py:535: FutureWarning: Passing (type, 1) or '1type' as a synonym of type is deprecated; in a future version of numpy, it will be understood as (type, (1,)) / '(1,)type'.\n",
            "  np_resource = np.dtype([(\"resource\", np.ubyte, 1)])\n"
          ],
          "name": "stderr"
        }
      ]
    },
    {
      "cell_type": "code",
      "metadata": {
        "id": "q8Wvwtc_8CzP"
      },
      "source": [
        "class NoisedObservationWrapper(gym.ObservationWrapper):\r\n",
        "    # encapsulate environment with this wrapper and use env just like before:\r\n",
        "    # env = NoisedObservationWrapper(gym.make(\"CartPole-v0\"))\r\n",
        "    # for PPO2:\r\n",
        "    # from stable_baselines.common import make_vec_env\r\n",
        "    # env = make_vec_env(NoisedObservationWrapper(gym.make(\"CartPole-v0\")))\r\n",
        "    \r\n",
        "    def __init__(self, env, std_dev=0.1, mean=0):\r\n",
        "        super(NoisedObservationWrapper, self).__init__(env)\r\n",
        "        self.std_dev = std_dev\r\n",
        "        self.mean = mean\r\n",
        "      \r\n",
        "    def observation(self, observation):\r\n",
        "        # Modify observation here, e.g. just add noise at certain angles etc.\r\n",
        "        # for now we add noise with mu=0 and std=0.1 on all observations\r\n",
        "        return observation + np.random.normal(self.mean, self.std_dev, 4)\r\n",
        "\r\n",
        "\r\n",
        "def sample_data(env, episodes=200, save=False):\r\n",
        "    env.np_random.seed(0)\r\n",
        "\r\n",
        "    CART_POS=\"cartPos\"\r\n",
        "    CART_VEL=\"cartVel\"\r\n",
        "    PEND_POS=\"pendPos\"\r\n",
        "    PEND_VEL=\"pendVel\"\r\n",
        "    EPISODE=\"episode\"\r\n",
        "    STEP=\"step\"\r\n",
        "    ACTION=\"action\"\r\n",
        "\r\n",
        "    # create empty Pandas dataset\r\n",
        "    d = {\r\n",
        "        CART_POS:[], CART_VEL:[], \r\n",
        "        PEND_POS:[], PEND_VEL:[],\r\n",
        "        EPISODE:[], STEP:[], ACTION:[]\r\n",
        "        }\r\n",
        "    df = pd.DataFrame(data=d)\r\n",
        "\r\n",
        "    # sample data\r\n",
        "    for episode in range(episodes):\r\n",
        "        print (\"Start of episode %d\" % episode)\r\n",
        "        obs = env.reset()\r\n",
        "        step = 0\r\n",
        "        done = False\r\n",
        "        \r\n",
        "        while step < 500 and not done:\r\n",
        "            step += 1\r\n",
        "            action = env.action_space.sample()\r\n",
        "            \r\n",
        "            df = df.append ({CART_POS:obs[0], CART_VEL:obs[1], \r\n",
        "                            PEND_POS:obs[2], PEND_VEL:obs[3],\r\n",
        "                            EPISODE:episode, STEP:step, ACTION:action}, ignore_index=True)\r\n",
        "            \r\n",
        "            obs, reward, done, _ = env.step(action)\r\n",
        "    \r\n",
        "    if save:\r\n",
        "        store = pd.HDFStore('sample_data.h5')\r\n",
        "        store['df'] = df\r\n",
        "    \r\n",
        "    return df"
      ],
      "execution_count": 5,
      "outputs": []
    },
    {
      "cell_type": "code",
      "metadata": {
        "id": "RkNhds3O8Hvw"
      },
      "source": [
        "log_dir1 = \"logs1\"\r\n",
        "log_dir2 = \"logs2\"\r\n",
        "os.makedirs(log_dir1, exist_ok=True)\r\n",
        "os.makedirs(log_dir2, exist_ok=True)"
      ],
      "execution_count": 6,
      "outputs": []
    },
    {
      "cell_type": "code",
      "metadata": {
        "id": "Z2kXbPHgJ7Fw"
      },
      "source": [
        "env1 = gym.make('CartPole-v1')\r\n",
        "env1 = Monitor(env1, log_dir1) # required for using callback functions during training"
      ],
      "execution_count": 7,
      "outputs": []
    },
    {
      "cell_type": "code",
      "metadata": {
        "id": "sK1-5r29IZzD"
      },
      "source": [
        "env2 = NoisedObservationWrapper(gym.make(\"CartPole-v0\"))\r\n",
        "env2 = Monitor(env2, log_dir2) # required for using callback functions during training"
      ],
      "execution_count": 8,
      "outputs": []
    },
    {
      "cell_type": "code",
      "metadata": {
        "id": "r21M8SysIbgX"
      },
      "source": [
        "from stable_baselines.common.callbacks import BaseCallback\r\n",
        "class SaveOnBestTrainingRewardCallback(BaseCallback):\r\n",
        "    \"\"\"\r\n",
        "    Callback for saving a model (the check is done every ``check_freq`` steps)\r\n",
        "    based on the training reward (in practice, we recommend using ``EvalCallback``).\r\n",
        "\r\n",
        "    :param check_freq: (int)\r\n",
        "    :param avg_episodes: (int) average over the past n episodes (default: 100)\r\n",
        "    :param log_dir: (str) Path to the folder where the model will be saved.\r\n",
        "      It must contains the file created by the ``Monitor`` wrapper.\r\n",
        "    :param verbose: (int)\r\n",
        "    :param vec_norm_env: (VecNormalize) stable-baselines VecNormalize object (contains Gym env)\r\n",
        "    \"\"\"\r\n",
        "    def __init__(self, check_freq: int, log_dir: str, verbose=1, avg_episodes=100, vec_norm_env=None):\r\n",
        "        super(SaveOnBestTrainingRewardCallback, self).__init__(verbose)\r\n",
        "        self.check_freq = check_freq\r\n",
        "        self.log_dir = log_dir\r\n",
        "        self.save_path = os.path.join(log_dir, 'best_model_nn')\r\n",
        "        self.best_mean_reward = -np.inf\r\n",
        "        self.best_timestep = -np.inf\r\n",
        "        self.vec_norm_env = vec_norm_env\r\n",
        "        self.avg_episodes = avg_episodes\r\n",
        "\r\n",
        "    def _init_callback(self) -> None:\r\n",
        "        # Create folder if needed\r\n",
        "        if self.save_path is not None:\r\n",
        "            os.makedirs(self.save_path, exist_ok=True)\r\n",
        "\r\n",
        "    def _on_step(self) -> bool:\r\n",
        "        if self.n_calls % self.check_freq == 0:\r\n",
        "\r\n",
        "            # Retrieve training reward\r\n",
        "            x, y = ts2xy(load_results(self.log_dir), 'timesteps')\r\n",
        "            \r\n",
        "            if len(x) > 0:\r\n",
        "                # Mean training reward over the last avg_episodes episodes\r\n",
        "                mean_reward = np.mean(y[-self.avg_episodes:])\r\n",
        "\r\n",
        "                # New best model, you could save the agent here\r\n",
        "                if mean_reward > self.best_mean_reward:\r\n",
        "                    self.best_mean_reward = mean_reward\r\n",
        "                    self.best_timestep = self.num_timesteps\r\n",
        "                    # Example for saving best model\r\n",
        "                    if self.verbose > 0:\r\n",
        "                        print(\"Saving new best model to {}\".format(self.save_path))\r\n",
        "                    self.model.save(self.save_path)\r\n",
        "\r\n",
        "                if self.verbose > 0:\r\n",
        "                    print(\"Num timesteps: {}\".format(self.num_timesteps))\r\n",
        "                    print(\"Best mean reward: {:.2f} (ts={}) - Last mean reward per episode: {:.2f}\".format(self.best_mean_reward, self.best_timestep, mean_reward))\r\n",
        "\r\n",
        "\r\n",
        "        return True"
      ],
      "execution_count": 9,
      "outputs": []
    },
    {
      "cell_type": "code",
      "metadata": {
        "colab": {
          "base_uri": "https://localhost:8080/"
        },
        "id": "asqLrBybJn_b",
        "outputId": "a7749be7-56b8-43ee-dc74-e42ca39ada8e"
      },
      "source": [
        "time_steps=21000\r\n",
        "\r\n",
        "tensorboard_dir1 = \"cartpole1\"\r\n",
        "os.makedirs(tensorboard_dir1, exist_ok=True)\r\n",
        "model1 = PPO2(MlpPolicy, env1, verbose=0)\r\n",
        "callback1=SaveOnBestTrainingRewardCallback(check_freq=5000, log_dir=log_dir1, avg_episodes=30, vec_norm_env=env1)\r\n",
        "model1.learn(total_timesteps=time_steps, callback=callback1)"
      ],
      "execution_count": 10,
      "outputs": [
        {
          "output_type": "stream",
          "text": [
            "WARNING:tensorflow:From /usr/local/lib/python3.6/dist-packages/stable_baselines/common/policies.py:561: flatten (from tensorflow.python.layers.core) is deprecated and will be removed in a future version.\n",
            "Instructions for updating:\n",
            "Use keras.layers.flatten instead.\n",
            "WARNING:tensorflow:From /usr/local/lib/python3.6/dist-packages/tensorflow/python/framework/op_def_library.py:263: colocate_with (from tensorflow.python.framework.ops) is deprecated and will be removed in a future version.\n",
            "Instructions for updating:\n",
            "Colocations handled automatically by placer.\n",
            "WARNING:tensorflow:From /usr/local/lib/python3.6/dist-packages/tensorflow/python/ops/math_ops.py:3066: to_int32 (from tensorflow.python.ops.math_ops) is deprecated and will be removed in a future version.\n",
            "Instructions for updating:\n",
            "Use tf.cast instead.\n",
            "WARNING:tensorflow:From /usr/local/lib/python3.6/dist-packages/tensorflow/python/ops/math_grad.py:102: div (from tensorflow.python.ops.math_ops) is deprecated and will be removed in a future version.\n",
            "Instructions for updating:\n",
            "Deprecated in favor of operator or tf.math.divide.\n",
            "Saving new best model to logs1/best_model_nn\n",
            "Num timesteps: 5000\n",
            "Best mean reward: 77.60 (ts=5000) - Last mean reward per episode: 77.60\n",
            "Saving new best model to logs1/best_model_nn\n",
            "Num timesteps: 10000\n",
            "Best mean reward: 128.47 (ts=10000) - Last mean reward per episode: 128.47\n",
            "Saving new best model to logs1/best_model_nn\n",
            "Num timesteps: 15000\n",
            "Best mean reward: 130.73 (ts=15000) - Last mean reward per episode: 130.73\n",
            "Saving new best model to logs1/best_model_nn\n",
            "Num timesteps: 20000\n",
            "Best mean reward: 154.70 (ts=20000) - Last mean reward per episode: 154.70\n"
          ],
          "name": "stdout"
        },
        {
          "output_type": "execute_result",
          "data": {
            "text/plain": [
              "<stable_baselines.ppo2.ppo2.PPO2 at 0x7f3a1c773400>"
            ]
          },
          "metadata": {
            "tags": []
          },
          "execution_count": 10
        }
      ]
    },
    {
      "cell_type": "code",
      "metadata": {
        "colab": {
          "base_uri": "https://localhost:8080/",
          "height": 153
        },
        "id": "c0EY73G7JsFc",
        "outputId": "4bbefa84-cc5f-4748-cab4-cd4cad76c3e4"
      },
      "source": [
        "results_plotter.plot_results([log_dir1], time_steps, results_plotter.X_TIMESTEPS, \"PPO2 CartPole\")\r\n",
        "plt.savefig(\"results1-cartpole.png\")\r\n",
        "plt.show()"
      ],
      "execution_count": 11,
      "outputs": [
        {
          "output_type": "display_data",
          "data": {
            "image/png": "[encoded data removed]",
            "text/plain": [
              "<Figure size 576x144 with 1 Axes>"
            ]
          },
          "metadata": {
            "tags": [],
            "needs_background": "light"
          }
        }
      ]
    },
    {
      "cell_type": "code",
      "metadata": {
        "colab": {
          "base_uri": "https://localhost:8080/"
        },
        "id": "wbWbLVcEKXuO",
        "outputId": "43c66988-b415-4aa3-ef75-6f86e6f4dbaa"
      },
      "source": [
        "tensorboard_dir2 = \"cartpole2\"\r\n",
        "os.makedirs(tensorboard_dir2, exist_ok=True)\r\n",
        "model2 = PPO2(MlpPolicy, env2, verbose=0)\r\n",
        "callback2=SaveOnBestTrainingRewardCallback(check_freq=5000, log_dir=log_dir2, avg_episodes=30, vec_norm_env=env2)\r\n",
        "model2.learn(total_timesteps=time_steps, callback=callback2)"
      ],
      "execution_count": 12,
      "outputs": [
        {
          "output_type": "stream",
          "text": [
            "Saving new best model to logs2/best_model_nn\n",
            "Num timesteps: 5000\n",
            "Best mean reward: 82.00 (ts=5000) - Last mean reward per episode: 82.00\n",
            "Saving new best model to logs2/best_model_nn\n",
            "Num timesteps: 10000\n",
            "Best mean reward: 102.43 (ts=10000) - Last mean reward per episode: 102.43\n",
            "Saving new best model to logs2/best_model_nn\n",
            "Num timesteps: 15000\n",
            "Best mean reward: 151.47 (ts=15000) - Last mean reward per episode: 151.47\n",
            "Saving new best model to logs2/best_model_nn\n",
            "Num timesteps: 20000\n",
            "Best mean reward: 155.77 (ts=20000) - Last mean reward per episode: 155.77\n"
          ],
          "name": "stdout"
        },
        {
          "output_type": "execute_result",
          "data": {
            "text/plain": [
              "<stable_baselines.ppo2.ppo2.PPO2 at 0x7f3a0d9dc048>"
            ]
          },
          "metadata": {
            "tags": []
          },
          "execution_count": 12
        }
      ]
    },
    {
      "cell_type": "code",
      "metadata": {
        "colab": {
          "base_uri": "https://localhost:8080/",
          "height": 153
        },
        "id": "agZnColrKwWc",
        "outputId": "5e98ccb5-94a0-4dc9-ebde-1927c4a95bfc"
      },
      "source": [
        "results_plotter.plot_results([log_dir2], time_steps, results_plotter.X_TIMESTEPS, \"PPO2 CartPole Uncertain\")\r\n",
        "plt.savefig(\"results2-cartpole.png\")\r\n",
        "plt.show()"
      ],
      "execution_count": 13,
      "outputs": [
        {
          "output_type": "display_data",
          "data": {
            "image/png": "[encoded data removed]",
            "text/plain": [
              "<Figure size 576x144 with 1 Axes>"
            ]
          },
          "metadata": {
            "tags": [],
            "needs_background": "light"
          }
        }
      ]
    },
    {
      "cell_type": "code",
      "metadata": {
        "id": "AEgFVQ1hVwAJ"
      },
      "source": [
        "import torch as torch\r\n",
        "import torch.nn as nn\r\n",
        "\r\n",
        "from torch.distributions.normal import Normal\r\n",
        "from torch import nn\r\n",
        "import torch.optim as optim\r\n",
        "import torch.nn.functional as F\r\n",
        "import numpy as np\r\n",
        "from torch.nn import Module\r\n",
        "from torch.nn.modules import activation\r\n",
        "import math\r\n",
        "from tqdm import tqdm"
      ],
      "execution_count": 22,
      "outputs": []
    },
    {
      "cell_type": "code",
      "metadata": {
        "id": "qPrcSUqnWi_v"
      },
      "source": [
        "SIGMA_1 = torch.FloatTensor([math.exp(-0)])\r\n",
        "SIGMA_2 = torch.FloatTensor([math.exp(-6)])\r\n"
      ],
      "execution_count": 14,
      "outputs": []
    },
    {
      "cell_type": "code",
      "metadata": {
        "id": "s1XI-uYMXu6l"
      },
      "source": [
        "class Gaussian(object):\r\n",
        "    def __init__(self, mu, rho):\r\n",
        "        super().__init__()\r\n",
        "        self.mu = mu\r\n",
        "        self.rho = rho\r\n",
        "        self.normal = torch.distributions.Normal(0, 1)\r\n",
        "\r\n",
        "    @property\r\n",
        "    def sigma(self):\r\n",
        "        return torch.log1p(torch.exp(self.rho))\r\n",
        "\r\n",
        "    def sample(self):\r\n",
        "        epsilon = self.normal.sample(self.rho.size()).to(self.device)\r\n",
        "        return self.mu + self.sigma * epsilon\r\n",
        "\r\n",
        "    def log_prob(self, input):\r\n",
        "        return (-math.log(math.sqrt(2 * math.pi))\r\n",
        "                - torch.log(self.sigma)\r\n",
        "                - ((input - self.mu) ** 2) / (2 * self.sigma ** 2)).sum()"
      ],
      "execution_count": 8,
      "outputs": []
    },
    {
      "cell_type": "code",
      "metadata": {
        "id": "S5hn5wbMXwcz"
      },
      "source": [
        "class ScaleMixtureGaussian(object):\r\n",
        "    def __init__(self, pi, sigma1, sigma2):\r\n",
        "        super().__init__()\r\n",
        "        self.pi = pi\r\n",
        "        self.sigma1 = sigma1\r\n",
        "        self.sigma2 = sigma2\r\n",
        "        self.gaussian1 = torch.distributions.Normal(0, sigma1)\r\n",
        "        self.gaussian2 = torch.distributions.Normal(0, sigma2)\r\n",
        "\r\n",
        "    def log_prob(self, input):\r\n",
        "        prob1 = torch.exp(self.gaussian1.log_prob(input))\r\n",
        "        prob2 = torch.exp(self.gaussian2.log_prob(input))\r\n",
        "        return (torch.log(self.pi * prob1 + (1 - self.pi) * prob2)).sum()"
      ],
      "execution_count": 9,
      "outputs": []
    },
    {
      "cell_type": "code",
      "metadata": {
        "id": "YHVLrfoOXzxA"
      },
      "source": [
        "class BayesianLinear(nn.Module):\r\n",
        "    def __init__(self, in_features, out_features):\r\n",
        "        super().__init__()\r\n",
        "        self.in_features = in_features\r\n",
        "        self.out_features = out_features\r\n",
        "\r\n",
        "        # Weight parameters\r\n",
        "        self.weight_mu = nn.Parameter(torch.Tensor(out_features, in_features).uniform_(-0.2, 0.2))\r\n",
        "        self.weight_rho = nn.Parameter(torch.Tensor(out_features, in_features).uniform_(-5,-4))\r\n",
        "        self.weight = Gaussian(self.weight_mu, self.weight_rho)\r\n",
        "\r\n",
        "        # Bias parameters\r\n",
        "        self.bias_mu = nn.Parameter(torch.Tensor(out_features).uniform_(-0.2, 0.2))\r\n",
        "        self.bias_rho = nn.Parameter(torch.Tensor(out_features).uniform_(-5,-4))\r\n",
        "        self.bias = Gaussian(self.bias_mu, self.bias_rho)\r\n",
        "\r\n",
        "        # Prior distributions\r\n",
        "        self.weight_prior = ScaleMixtureGaussian(PI, SIGMA_1, SIGMA_2)\r\n",
        "        self.bias_prior = ScaleMixtureGaussian(PI, SIGMA_1, SIGMA_2)\r\n",
        "        self.log_prior = 0\r\n",
        "        self.log_variational_posterior = 0\r\n",
        "\r\n",
        "\r\n",
        "    def forward(self, input, sample=False, calculate_log_probs=False):\r\n",
        "        if self.training or sample:\r\n",
        "            weight = self.weight.sample()\r\n",
        "            bias = self.bias.sample()\r\n",
        "        else:\r\n",
        "            weight = self.weight.mu\r\n",
        "            bias = self.bias.mu\r\n",
        "        if self.training or calculate_log_probs:\r\n",
        "            self.log_prior = self.weight_prior.log_prob(weight) + self.bias_prior.log_prob(bias)\r\n",
        "            self.log_variational_posterior = self.weight.log_prob(weight) + self.bias.log_prob(bias)\r\n",
        "        else:\r\n",
        "            self.log_prior, self.log_variational_posterior = 0, 0\r\n",
        "\r\n",
        "        return F.linear(input, weight, bias)"
      ],
      "execution_count": 10,
      "outputs": []
    },
    {
      "cell_type": "code",
      "metadata": {
        "id": "GCBezETrbbQ9"
      },
      "source": [
        "SAMPLES = 100\r\n",
        "PI = 0.5\r\n",
        "TRAIN_EPOCHS = 500"
      ],
      "execution_count": 20,
      "outputs": []
    },
    {
      "cell_type": "code",
      "metadata": {
        "id": "Gn3ZMmkOX71j"
      },
      "source": [
        "class BayesianNetwork(nn.Module):\r\n",
        "    def __init__(self):\r\n",
        "        super().__init__()\r\n",
        "        self.l1 = BayesianLinear(28 * 28, 400)\r\n",
        "        self.l2 = BayesianLinear(400, 400)\r\n",
        "        self.l3 = BayesianLinear(400, 10)\r\n",
        "\r\n",
        "    def forward(self, x, sample=False):\r\n",
        "        x = x.view(-1, 28 * 28)\r\n",
        "        x = F.relu(self.l1(x, sample))\r\n",
        "        x = F.relu(self.l2(x, sample))\r\n",
        "        x = F.log_softmax(self.l3(x, sample), dim=1)\r\n",
        "        return x\r\n",
        "\r\n",
        "    def log_prior(self):\r\n",
        "        return self.l1.log_prior \\\r\n",
        "               + self.l2.log_prior \\\r\n",
        "               + self.l3.log_prior\r\n",
        "\r\n",
        "    def log_variational_posterior(self):\r\n",
        "        return self.l1.log_variational_posterior \\\r\n",
        "               + self.l2.log_variational_posterior \\\r\n",
        "               + self.l3.log_variational_posterior\r\n",
        "\r\n",
        "    def sample_elbo(self, input, target, samples=SAMPLES):\r\n",
        "        outputs = torch.zeros(samples, BATCH_SIZE, CLASSES)\r\n",
        "        log_priors = torch.zeros(samples)\r\n",
        "        log_variational_posteriors = torch.zeros(samples)\r\n",
        "        for i in range(samples):\r\n",
        "            outputs[i] = self(input, sample=True)\r\n",
        "            log_priors[i] = self.log_prior()\r\n",
        "            log_variational_posteriors[i] = self.log_variational_posterior()\r\n",
        "        log_prior = log_priors.mean()\r\n",
        "        log_variational_posterior = log_variational_posteriors.mean()\r\n",
        "        negative_log_likelihood = F.nll_loss(outputs.mean(0), target, size_average=False)\r\n",
        "        loss = (log_variational_posterior - log_prior) / NUM_BATCHES + negative_log_likelihood\r\n",
        "        return loss, log_prior, log_variational_posterior, negative_log_likelihood"
      ],
      "execution_count": 16,
      "outputs": []
    },
    {
      "cell_type": "code",
      "metadata": {
        "id": "2V0DM-fHbZTL"
      },
      "source": [
        "net = BayesianNetwork()"
      ],
      "execution_count": 17,
      "outputs": []
    },
    {
      "cell_type": "code",
      "metadata": {
        "id": "4ld2zaUkcK09"
      },
      "source": [
        "def train(net, optimizer, epoch):\r\n",
        "    net.train()\r\n",
        "    for batch_idx, (data, target) in enumerate(tqdm(train_loader)):\r\n",
        "        net.zero_grad()\r\n",
        "        loss = net.sample_elbo(data, target)\r\n",
        "        loss.backward()\r\n",
        "        optimizer.step()"
      ],
      "execution_count": 18,
      "outputs": []
    },
    {
      "cell_type": "code",
      "metadata": {
        "colab": {
          "base_uri": "https://localhost:8080/",
          "height": 334
        },
        "id": "7f_BWqw3cOcn",
        "outputId": "8050aec7-6abe-47a7-925d-c2eeda242302"
      },
      "source": [
        "optimizer = optim.Adam(net.parameters())\r\n",
        "for epoch in range(TRAIN_EPOCHS):\r\n",
        "    train(net, optimizer, epoch)"
      ],
      "execution_count": 23,
      "outputs": [
        {
          "output_type": "error",
          "ename": "NameError",
          "evalue": "ignored",
          "traceback": [
            "\u001b[0;31m---------------------------------------------------------------------------\u001b[0m",
            "\u001b[0;31mNameError\u001b[0m                                 Traceback (most recent call last)",
            "\u001b[0;32m<ipython-input-23-cec21c699ccf>\u001b[0m in \u001b[0;36m<module>\u001b[0;34m()\u001b[0m\n\u001b[1;32m      1\u001b[0m \u001b[0moptimizer\u001b[0m \u001b[0;34m=\u001b[0m \u001b[0moptim\u001b[0m\u001b[0;34m.\u001b[0m\u001b[0mAdam\u001b[0m\u001b[0;34m(\u001b[0m\u001b[0mnet\u001b[0m\u001b[0;34m.\u001b[0m\u001b[0mparameters\u001b[0m\u001b[0;34m(\u001b[0m\u001b[0;34m)\u001b[0m\u001b[0;34m)\u001b[0m\u001b[0;34m\u001b[0m\u001b[0;34m\u001b[0m\u001b[0m\n\u001b[1;32m      2\u001b[0m \u001b[0;32mfor\u001b[0m \u001b[0mepoch\u001b[0m \u001b[0;32min\u001b[0m \u001b[0mrange\u001b[0m\u001b[0;34m(\u001b[0m\u001b[0mTRAIN_EPOCHS\u001b[0m\u001b[0;34m)\u001b[0m\u001b[0;34m:\u001b[0m\u001b[0;34m\u001b[0m\u001b[0;34m\u001b[0m\u001b[0m\n\u001b[0;32m----> 3\u001b[0;31m     \u001b[0mtrain\u001b[0m\u001b[0;34m(\u001b[0m\u001b[0mnet\u001b[0m\u001b[0;34m,\u001b[0m \u001b[0moptimizer\u001b[0m\u001b[0;34m,\u001b[0m \u001b[0mepoch\u001b[0m\u001b[0;34m)\u001b[0m\u001b[0;34m\u001b[0m\u001b[0;34m\u001b[0m\u001b[0m\n\u001b[0m",
            "\u001b[0;32m<ipython-input-18-e9b5731cbd9e>\u001b[0m in \u001b[0;36mtrain\u001b[0;34m(net, optimizer, epoch)\u001b[0m\n\u001b[1;32m      1\u001b[0m \u001b[0;32mdef\u001b[0m \u001b[0mtrain\u001b[0m\u001b[0;34m(\u001b[0m\u001b[0mnet\u001b[0m\u001b[0;34m,\u001b[0m \u001b[0moptimizer\u001b[0m\u001b[0;34m,\u001b[0m \u001b[0mepoch\u001b[0m\u001b[0;34m)\u001b[0m\u001b[0;34m:\u001b[0m\u001b[0;34m\u001b[0m\u001b[0;34m\u001b[0m\u001b[0m\n\u001b[1;32m      2\u001b[0m     \u001b[0mnet\u001b[0m\u001b[0;34m.\u001b[0m\u001b[0mtrain\u001b[0m\u001b[0;34m(\u001b[0m\u001b[0;34m)\u001b[0m\u001b[0;34m\u001b[0m\u001b[0;34m\u001b[0m\u001b[0m\n\u001b[0;32m----> 3\u001b[0;31m     \u001b[0;32mfor\u001b[0m \u001b[0mbatch_idx\u001b[0m\u001b[0;34m,\u001b[0m \u001b[0;34m(\u001b[0m\u001b[0mdata\u001b[0m\u001b[0;34m,\u001b[0m \u001b[0mtarget\u001b[0m\u001b[0;34m)\u001b[0m \u001b[0;32min\u001b[0m \u001b[0menumerate\u001b[0m\u001b[0;34m(\u001b[0m\u001b[0mtqdm\u001b[0m\u001b[0;34m(\u001b[0m\u001b[0mtrain_loader\u001b[0m\u001b[0;34m)\u001b[0m\u001b[0;34m)\u001b[0m\u001b[0;34m:\u001b[0m\u001b[0;34m\u001b[0m\u001b[0;34m\u001b[0m\u001b[0m\n\u001b[0m\u001b[1;32m      4\u001b[0m         \u001b[0mnet\u001b[0m\u001b[0;34m.\u001b[0m\u001b[0mzero_grad\u001b[0m\u001b[0;34m(\u001b[0m\u001b[0;34m)\u001b[0m\u001b[0;34m\u001b[0m\u001b[0;34m\u001b[0m\u001b[0m\n\u001b[1;32m      5\u001b[0m         \u001b[0mloss\u001b[0m \u001b[0;34m=\u001b[0m \u001b[0mnet\u001b[0m\u001b[0;34m.\u001b[0m\u001b[0msample_elbo\u001b[0m\u001b[0;34m(\u001b[0m\u001b[0mdata\u001b[0m\u001b[0;34m,\u001b[0m \u001b[0mtarget\u001b[0m\u001b[0;34m)\u001b[0m\u001b[0;34m\u001b[0m\u001b[0;34m\u001b[0m\u001b[0m\n",
            "\u001b[0;31mNameError\u001b[0m: name 'train_loader' is not defined"
          ]
        }
      ]
    }
  ]
}